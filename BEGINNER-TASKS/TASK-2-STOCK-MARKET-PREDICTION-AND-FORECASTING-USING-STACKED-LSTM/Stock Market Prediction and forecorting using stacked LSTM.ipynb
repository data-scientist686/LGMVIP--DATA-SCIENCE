{
 "cells": [
  {
   "cell_type": "markdown",
   "source": [
    "# Muhammad Hassan"
   ],
   "metadata": {
    "collapsed": false
   }
  },
  {
   "cell_type": "markdown",
   "source": [
    "## Stock Market Prediction and Forecasting Using Stacked LSTM"
   ],
   "metadata": {
    "collapsed": false
   }
  },
  {
   "cell_type": "markdown",
   "source": [
    "## Task-02 Beginner Level"
   ],
   "metadata": {
    "collapsed": false
   }
  },
  {
   "cell_type": "markdown",
   "source": [
    "### 1. Importing Libraries"
   ],
   "metadata": {
    "collapsed": false
   }
  },
  {
   "cell_type": "code",
   "execution_count": 72,
   "outputs": [],
   "source": [
    "import numpy as np\n",
    "import pandas as pd\n",
    "import matplotlib.pyplot as plt\n",
    "from sklearn.preprocessing import MinMaxScaler\n",
    "### Create the Stacked LSTM model\n",
    "from keras.models import Sequential\n",
    "from keras.layers import Dense\n",
    "from keras.layers import LSTM\n",
    "import math\n",
    "from sklearn.metrics import mean_squared_error"
   ],
   "metadata": {
    "collapsed": false
   }
  },
  {
   "cell_type": "code",
   "execution_count": 73,
   "outputs": [],
   "source": [
    "url=\"https://raw.githubusercontent.com/mwitiderrick/stockprice/master/NSE-TATAGLOBAL.csv\"\n",
    "df=pd.read_csv(url)"
   ],
   "metadata": {
    "collapsed": false
   }
  },
  {
   "cell_type": "code",
   "execution_count": 74,
   "outputs": [
    {
     "data": {
      "text/plain": "         Date    Open    High     Low    Last   Close  Total Trade Quantity  \\\n0  2018-09-28  234.05  235.95  230.20  233.50  233.75               3069914   \n1  2018-09-27  234.55  236.80  231.10  233.80  233.25               5082859   \n2  2018-09-26  240.00  240.00  232.50  235.00  234.25               2240909   \n3  2018-09-25  233.30  236.75  232.00  236.25  236.10               2349368   \n4  2018-09-24  233.55  239.20  230.75  234.00  233.30               3423509   \n\n   Turnover (Lacs)  \n0          7162.35  \n1         11859.95  \n2          5248.60  \n3          5503.90  \n4          7999.55  ",
      "text/html": "<div>\n<style scoped>\n    .dataframe tbody tr th:only-of-type {\n        vertical-align: middle;\n    }\n\n    .dataframe tbody tr th {\n        vertical-align: top;\n    }\n\n    .dataframe thead th {\n        text-align: right;\n    }\n</style>\n<table border=\"1\" class=\"dataframe\">\n  <thead>\n    <tr style=\"text-align: right;\">\n      <th></th>\n      <th>Date</th>\n      <th>Open</th>\n      <th>High</th>\n      <th>Low</th>\n      <th>Last</th>\n      <th>Close</th>\n      <th>Total Trade Quantity</th>\n      <th>Turnover (Lacs)</th>\n    </tr>\n  </thead>\n  <tbody>\n    <tr>\n      <th>0</th>\n      <td>2018-09-28</td>\n      <td>234.05</td>\n      <td>235.95</td>\n      <td>230.20</td>\n      <td>233.50</td>\n      <td>233.75</td>\n      <td>3069914</td>\n      <td>7162.35</td>\n    </tr>\n    <tr>\n      <th>1</th>\n      <td>2018-09-27</td>\n      <td>234.55</td>\n      <td>236.80</td>\n      <td>231.10</td>\n      <td>233.80</td>\n      <td>233.25</td>\n      <td>5082859</td>\n      <td>11859.95</td>\n    </tr>\n    <tr>\n      <th>2</th>\n      <td>2018-09-26</td>\n      <td>240.00</td>\n      <td>240.00</td>\n      <td>232.50</td>\n      <td>235.00</td>\n      <td>234.25</td>\n      <td>2240909</td>\n      <td>5248.60</td>\n    </tr>\n    <tr>\n      <th>3</th>\n      <td>2018-09-25</td>\n      <td>233.30</td>\n      <td>236.75</td>\n      <td>232.00</td>\n      <td>236.25</td>\n      <td>236.10</td>\n      <td>2349368</td>\n      <td>5503.90</td>\n    </tr>\n    <tr>\n      <th>4</th>\n      <td>2018-09-24</td>\n      <td>233.55</td>\n      <td>239.20</td>\n      <td>230.75</td>\n      <td>234.00</td>\n      <td>233.30</td>\n      <td>3423509</td>\n      <td>7999.55</td>\n    </tr>\n  </tbody>\n</table>\n</div>"
     },
     "execution_count": 74,
     "metadata": {},
     "output_type": "execute_result"
    }
   ],
   "source": [
    "df.head()"
   ],
   "metadata": {
    "collapsed": false
   }
  },
  {
   "cell_type": "code",
   "execution_count": 75,
   "outputs": [
    {
     "data": {
      "text/plain": "            Date   Open    High     Low    Last   Close  Total Trade Quantity  \\\n2030  2010-07-27  117.6  119.50  112.00  118.80  118.65                586100   \n2031  2010-07-26  120.1  121.00  117.10  117.10  117.60                658440   \n2032  2010-07-23  121.8  121.95  120.25  120.35  120.65                281312   \n2033  2010-07-22  120.3  122.00  120.25  120.75  120.90                293312   \n2034  2010-07-21  122.1  123.00  121.05  121.10  121.55                658666   \n\n      Turnover (Lacs)  \n2030           694.98  \n2031           780.01  \n2032           340.31  \n2033           355.17  \n2034           803.56  ",
      "text/html": "<div>\n<style scoped>\n    .dataframe tbody tr th:only-of-type {\n        vertical-align: middle;\n    }\n\n    .dataframe tbody tr th {\n        vertical-align: top;\n    }\n\n    .dataframe thead th {\n        text-align: right;\n    }\n</style>\n<table border=\"1\" class=\"dataframe\">\n  <thead>\n    <tr style=\"text-align: right;\">\n      <th></th>\n      <th>Date</th>\n      <th>Open</th>\n      <th>High</th>\n      <th>Low</th>\n      <th>Last</th>\n      <th>Close</th>\n      <th>Total Trade Quantity</th>\n      <th>Turnover (Lacs)</th>\n    </tr>\n  </thead>\n  <tbody>\n    <tr>\n      <th>2030</th>\n      <td>2010-07-27</td>\n      <td>117.6</td>\n      <td>119.50</td>\n      <td>112.00</td>\n      <td>118.80</td>\n      <td>118.65</td>\n      <td>586100</td>\n      <td>694.98</td>\n    </tr>\n    <tr>\n      <th>2031</th>\n      <td>2010-07-26</td>\n      <td>120.1</td>\n      <td>121.00</td>\n      <td>117.10</td>\n      <td>117.10</td>\n      <td>117.60</td>\n      <td>658440</td>\n      <td>780.01</td>\n    </tr>\n    <tr>\n      <th>2032</th>\n      <td>2010-07-23</td>\n      <td>121.8</td>\n      <td>121.95</td>\n      <td>120.25</td>\n      <td>120.35</td>\n      <td>120.65</td>\n      <td>281312</td>\n      <td>340.31</td>\n    </tr>\n    <tr>\n      <th>2033</th>\n      <td>2010-07-22</td>\n      <td>120.3</td>\n      <td>122.00</td>\n      <td>120.25</td>\n      <td>120.75</td>\n      <td>120.90</td>\n      <td>293312</td>\n      <td>355.17</td>\n    </tr>\n    <tr>\n      <th>2034</th>\n      <td>2010-07-21</td>\n      <td>122.1</td>\n      <td>123.00</td>\n      <td>121.05</td>\n      <td>121.10</td>\n      <td>121.55</td>\n      <td>658666</td>\n      <td>803.56</td>\n    </tr>\n  </tbody>\n</table>\n</div>"
     },
     "execution_count": 75,
     "metadata": {},
     "output_type": "execute_result"
    }
   ],
   "source": [
    "df.tail()"
   ],
   "metadata": {
    "collapsed": false
   }
  },
  {
   "cell_type": "code",
   "execution_count": 76,
   "outputs": [
    {
     "name": "stdout",
     "output_type": "stream",
     "text": [
      "<class 'pandas.core.frame.DataFrame'>\n",
      "RangeIndex: 2035 entries, 0 to 2034\n",
      "Data columns (total 8 columns):\n",
      " #   Column                Non-Null Count  Dtype  \n",
      "---  ------                --------------  -----  \n",
      " 0   Date                  2035 non-null   object \n",
      " 1   Open                  2035 non-null   float64\n",
      " 2   High                  2035 non-null   float64\n",
      " 3   Low                   2035 non-null   float64\n",
      " 4   Last                  2035 non-null   float64\n",
      " 5   Close                 2035 non-null   float64\n",
      " 6   Total Trade Quantity  2035 non-null   int64  \n",
      " 7   Turnover (Lacs)       2035 non-null   float64\n",
      "dtypes: float64(6), int64(1), object(1)\n",
      "memory usage: 127.3+ KB\n"
     ]
    }
   ],
   "source": [
    "df.info()"
   ],
   "metadata": {
    "collapsed": false
   }
  },
  {
   "cell_type": "code",
   "execution_count": 77,
   "outputs": [
    {
     "data": {
      "text/plain": "              Open         High          Low         Last       Close  \\\ncount  2035.000000  2035.000000  2035.000000  2035.000000  2035.00000   \nmean    149.713735   151.992826   147.293931   149.474251   149.45027   \nstd      48.664509    49.413109    47.931958    48.732570    48.71204   \nmin      81.100000    82.800000    80.000000    81.000000    80.95000   \n25%     120.025000   122.100000   118.300000   120.075000   120.05000   \n50%     141.500000   143.400000   139.600000   141.100000   141.25000   \n75%     157.175000   159.400000   155.150000   156.925000   156.90000   \nmax     327.700000   328.750000   321.650000   325.950000   325.75000   \n\n       Total Trade Quantity  Turnover (Lacs)  \ncount          2.035000e+03      2035.000000  \nmean           2.335681e+06      3899.980565  \nstd            2.091778e+06      4570.767877  \nmin            3.961000e+04        37.040000  \n25%            1.146444e+06      1427.460000  \n50%            1.783456e+06      2512.030000  \n75%            2.813594e+06      4539.015000  \nmax            2.919102e+07     55755.080000  ",
      "text/html": "<div>\n<style scoped>\n    .dataframe tbody tr th:only-of-type {\n        vertical-align: middle;\n    }\n\n    .dataframe tbody tr th {\n        vertical-align: top;\n    }\n\n    .dataframe thead th {\n        text-align: right;\n    }\n</style>\n<table border=\"1\" class=\"dataframe\">\n  <thead>\n    <tr style=\"text-align: right;\">\n      <th></th>\n      <th>Open</th>\n      <th>High</th>\n      <th>Low</th>\n      <th>Last</th>\n      <th>Close</th>\n      <th>Total Trade Quantity</th>\n      <th>Turnover (Lacs)</th>\n    </tr>\n  </thead>\n  <tbody>\n    <tr>\n      <th>count</th>\n      <td>2035.000000</td>\n      <td>2035.000000</td>\n      <td>2035.000000</td>\n      <td>2035.000000</td>\n      <td>2035.00000</td>\n      <td>2.035000e+03</td>\n      <td>2035.000000</td>\n    </tr>\n    <tr>\n      <th>mean</th>\n      <td>149.713735</td>\n      <td>151.992826</td>\n      <td>147.293931</td>\n      <td>149.474251</td>\n      <td>149.45027</td>\n      <td>2.335681e+06</td>\n      <td>3899.980565</td>\n    </tr>\n    <tr>\n      <th>std</th>\n      <td>48.664509</td>\n      <td>49.413109</td>\n      <td>47.931958</td>\n      <td>48.732570</td>\n      <td>48.71204</td>\n      <td>2.091778e+06</td>\n      <td>4570.767877</td>\n    </tr>\n    <tr>\n      <th>min</th>\n      <td>81.100000</td>\n      <td>82.800000</td>\n      <td>80.000000</td>\n      <td>81.000000</td>\n      <td>80.95000</td>\n      <td>3.961000e+04</td>\n      <td>37.040000</td>\n    </tr>\n    <tr>\n      <th>25%</th>\n      <td>120.025000</td>\n      <td>122.100000</td>\n      <td>118.300000</td>\n      <td>120.075000</td>\n      <td>120.05000</td>\n      <td>1.146444e+06</td>\n      <td>1427.460000</td>\n    </tr>\n    <tr>\n      <th>50%</th>\n      <td>141.500000</td>\n      <td>143.400000</td>\n      <td>139.600000</td>\n      <td>141.100000</td>\n      <td>141.25000</td>\n      <td>1.783456e+06</td>\n      <td>2512.030000</td>\n    </tr>\n    <tr>\n      <th>75%</th>\n      <td>157.175000</td>\n      <td>159.400000</td>\n      <td>155.150000</td>\n      <td>156.925000</td>\n      <td>156.90000</td>\n      <td>2.813594e+06</td>\n      <td>4539.015000</td>\n    </tr>\n    <tr>\n      <th>max</th>\n      <td>327.700000</td>\n      <td>328.750000</td>\n      <td>321.650000</td>\n      <td>325.950000</td>\n      <td>325.75000</td>\n      <td>2.919102e+07</td>\n      <td>55755.080000</td>\n    </tr>\n  </tbody>\n</table>\n</div>"
     },
     "execution_count": 77,
     "metadata": {},
     "output_type": "execute_result"
    }
   ],
   "source": [
    "df.describe()"
   ],
   "metadata": {
    "collapsed": false
   }
  },
  {
   "cell_type": "code",
   "execution_count": 78,
   "outputs": [],
   "source": [
    "df1=df.reset_index()['Close']"
   ],
   "metadata": {
    "collapsed": false
   }
  },
  {
   "cell_type": "code",
   "execution_count": 79,
   "outputs": [
    {
     "data": {
      "text/plain": "(2035,)"
     },
     "execution_count": 79,
     "metadata": {},
     "output_type": "execute_result"
    }
   ],
   "source": [
    "df1.shape"
   ],
   "metadata": {
    "collapsed": false
   }
  },
  {
   "cell_type": "code",
   "execution_count": 80,
   "outputs": [
    {
     "data": {
      "text/plain": "[<matplotlib.lines.Line2D at 0x1def6e39a80>]"
     },
     "execution_count": 80,
     "metadata": {},
     "output_type": "execute_result"
    },
    {
     "data": {
      "text/plain": "<Figure size 640x480 with 1 Axes>",
      "image/png": "[encoded data removed]"
     },
     "metadata": {},
     "output_type": "display_data"
    }
   ],
   "source": [
    "plt.plot(df1)"
   ],
   "metadata": {
    "collapsed": false
   }
  },
  {
   "cell_type": "code",
   "execution_count": 81,
   "outputs": [],
   "source": [
    "scaler=MinMaxScaler(feature_range=(0,1))\n",
    "df1=scaler.fit_transform(np.array(df1).reshape(-1,1))"
   ],
   "metadata": {
    "collapsed": false
   }
  },
  {
   "cell_type": "code",
   "execution_count": 82,
   "outputs": [
    {
     "data": {
      "text/plain": "array([[0.62418301],\n       [0.62214052],\n       [0.62622549],\n       ...,\n       [0.1621732 ],\n       [0.16319444],\n       [0.16584967]])"
     },
     "execution_count": 82,
     "metadata": {},
     "output_type": "execute_result"
    }
   ],
   "source": [
    "df1"
   ],
   "metadata": {
    "collapsed": false
   }
  },
  {
   "cell_type": "code",
   "execution_count": 83,
   "outputs": [],
   "source": [
    "##splitting dataset into train and test split\n",
    "training_size=int(len(df1)*0.65)\n",
    "test_size=len(df1)-training_size\n",
    "train_data,test_data=df1[0:training_size,:],df1[training_size:len(df1),:1]"
   ],
   "metadata": {
    "collapsed": false
   }
  },
  {
   "cell_type": "code",
   "execution_count": 84,
   "outputs": [
    {
     "data": {
      "text/plain": "(1322, 713)"
     },
     "execution_count": 84,
     "metadata": {},
     "output_type": "execute_result"
    }
   ],
   "source": [
    "training_size,test_size"
   ],
   "metadata": {
    "collapsed": false
   }
  },
  {
   "cell_type": "code",
   "execution_count": 85,
   "outputs": [
    {
     "data": {
      "text/plain": "array([[0.62418301],\n       [0.62214052],\n       [0.62622549],\n       ...,\n       [0.25347222],\n       [0.26041667],\n       [0.2563317 ]])"
     },
     "execution_count": 85,
     "metadata": {},
     "output_type": "execute_result"
    }
   ],
   "source": [
    "train_data"
   ],
   "metadata": {
    "collapsed": false
   }
  },
  {
   "cell_type": "code",
   "execution_count": 86,
   "outputs": [],
   "source": [
    "# convert an array of values into a dataset matrix\n",
    "def create_dataset(dataset, time_step=1):\n",
    "\tdataX, dataY = [], []\n",
    "\tfor i in range(len(dataset)-time_step-1):\n",
    "\t\ta = dataset[i:(i+time_step), 0]\n",
    "\t\tdataX.append(a)\n",
    "\t\tdataY.append(dataset[i + time_step, 0])\n",
    "\treturn np.array(dataX), np.array(dataY)"
   ],
   "metadata": {
    "collapsed": false
   }
  },
  {
   "cell_type": "code",
   "execution_count": 87,
   "outputs": [],
   "source": [
    "# reshape into X=t,t+1,t+2,t+3 and Y=t+4\n",
    "time_step = 100\n",
    "X_train, y_train = create_dataset(train_data, time_step)\n",
    "X_test, ytest = create_dataset(test_data, time_step)"
   ],
   "metadata": {
    "collapsed": false
   }
  },
  {
   "cell_type": "code",
   "execution_count": 88,
   "outputs": [
    {
     "name": "stdout",
     "output_type": "stream",
     "text": [
      "(1221, 100)\n",
      "(1221,)\n"
     ]
    },
    {
     "data": {
      "text/plain": "(None, None)"
     },
     "execution_count": 88,
     "metadata": {},
     "output_type": "execute_result"
    }
   ],
   "source": [
    "print(X_train.shape), print(y_train.shape)"
   ],
   "metadata": {
    "collapsed": false
   }
  },
  {
   "cell_type": "code",
   "execution_count": 89,
   "outputs": [
    {
     "name": "stdout",
     "output_type": "stream",
     "text": [
      "(612, 100)\n",
      "(612,)\n"
     ]
    },
    {
     "data": {
      "text/plain": "(None, None)"
     },
     "execution_count": 89,
     "metadata": {},
     "output_type": "execute_result"
    }
   ],
   "source": [
    "print(X_test.shape), print(ytest.shape)"
   ],
   "metadata": {
    "collapsed": false
   }
  },
  {
   "cell_type": "code",
   "execution_count": 90,
   "outputs": [],
   "source": [
    "# reshape input to be [samples, time steps, features] which is required for LSTM\n",
    "X_train =X_train.reshape(X_train.shape[0],X_train.shape[1] , 1)\n",
    "X_test = X_test.reshape(X_test.shape[0],X_test.shape[1] , 1)"
   ],
   "metadata": {
    "collapsed": false
   }
  },
  {
   "cell_type": "code",
   "execution_count": 91,
   "outputs": [],
   "source": [
    "model=Sequential()\n",
    "model.add(LSTM(50,return_sequences=True,input_shape=(100,1)))\n",
    "model.add(LSTM(50,return_sequences=True))\n",
    "model.add(LSTM(50))\n",
    "model.add(Dense(1))\n",
    "model.compile(loss='mean_squared_error',optimizer='adam')"
   ],
   "metadata": {
    "collapsed": false
   }
  },
  {
   "cell_type": "code",
   "execution_count": 92,
   "outputs": [
    {
     "name": "stdout",
     "output_type": "stream",
     "text": [
      "Model: \"sequential_2\"\n",
      "_________________________________________________________________\n",
      " Layer (type)                Output Shape              Param #   \n",
      "=================================================================\n",
      " lstm_6 (LSTM)               (None, 100, 50)           10400     \n",
      "                                                                 \n",
      " lstm_7 (LSTM)               (None, 100, 50)           20200     \n",
      "                                                                 \n",
      " lstm_8 (LSTM)               (None, 50)                20200     \n",
      "                                                                 \n",
      " dense_2 (Dense)             (None, 1)                 51        \n",
      "                                                                 \n",
      "=================================================================\n",
      "Total params: 50,851\n",
      "Trainable params: 50,851\n",
      "Non-trainable params: 0\n",
      "_________________________________________________________________\n"
     ]
    }
   ],
   "source": [
    "model.summary()"
   ],
   "metadata": {
    "collapsed": false
   }
  },
  {
   "cell_type": "code",
   "execution_count": 93,
   "outputs": [
    {
     "name": "stdout",
     "output_type": "stream",
     "text": [
      "Epoch 1/25\n",
      "20/20 [==============================] - 14s 311ms/step - loss: 0.0280 - val_loss: 0.0041\n",
      "Epoch 2/25\n",
      "20/20 [==============================] - 6s 275ms/step - loss: 0.0028 - val_loss: 0.0011\n",
      "Epoch 3/25\n",
      "20/20 [==============================] - 6s 289ms/step - loss: 0.0018 - val_loss: 9.9023e-04\n",
      "Epoch 4/25\n",
      "20/20 [==============================] - 5s 259ms/step - loss: 0.0018 - val_loss: 0.0014\n",
      "Epoch 5/25\n",
      "20/20 [==============================] - 6s 300ms/step - loss: 0.0015 - val_loss: 9.2062e-04\n",
      "Epoch 6/25\n",
      "20/20 [==============================] - 6s 293ms/step - loss: 0.0016 - val_loss: 0.0014\n",
      "Epoch 7/25\n",
      "20/20 [==============================] - 6s 287ms/step - loss: 0.0014 - val_loss: 0.0015\n",
      "Epoch 8/25\n",
      "20/20 [==============================] - 5s 274ms/step - loss: 0.0018 - val_loss: 9.0356e-04\n",
      "Epoch 9/25\n",
      "20/20 [==============================] - 5s 264ms/step - loss: 0.0014 - val_loss: 9.5474e-04\n",
      "Epoch 10/25\n",
      "20/20 [==============================] - 5s 271ms/step - loss: 0.0012 - val_loss: 9.2993e-04\n",
      "Epoch 11/25\n",
      "20/20 [==============================] - 5s 270ms/step - loss: 0.0011 - val_loss: 8.2977e-04\n",
      "Epoch 12/25\n",
      "20/20 [==============================] - 6s 296ms/step - loss: 0.0010 - val_loss: 7.9521e-04\n",
      "Epoch 13/25\n",
      "20/20 [==============================] - 5s 274ms/step - loss: 0.0010 - val_loss: 8.0626e-04\n",
      "Epoch 14/25\n",
      "20/20 [==============================] - 5s 271ms/step - loss: 0.0011 - val_loss: 6.7010e-04\n",
      "Epoch 15/25\n",
      "20/20 [==============================] - 5s 264ms/step - loss: 0.0011 - val_loss: 7.1074e-04\n",
      "Epoch 16/25\n",
      "20/20 [==============================] - 5s 260ms/step - loss: 9.1014e-04 - val_loss: 9.6184e-04\n",
      "Epoch 17/25\n",
      "20/20 [==============================] - 5s 267ms/step - loss: 9.2652e-04 - val_loss: 8.4491e-04\n",
      "Epoch 18/25\n",
      "20/20 [==============================] - 5s 265ms/step - loss: 8.6464e-04 - val_loss: 0.0012\n",
      "Epoch 19/25\n",
      "20/20 [==============================] - 5s 260ms/step - loss: 0.0010 - val_loss: 9.0999e-04\n",
      "Epoch 20/25\n",
      "20/20 [==============================] - 5s 258ms/step - loss: 8.5302e-04 - val_loss: 8.6059e-04\n",
      "Epoch 21/25\n",
      "20/20 [==============================] - 5s 265ms/step - loss: 8.6162e-04 - val_loss: 6.8922e-04\n",
      "Epoch 22/25\n",
      "20/20 [==============================] - 5s 264ms/step - loss: 7.5688e-04 - val_loss: 6.5396e-04\n",
      "Epoch 23/25\n",
      "20/20 [==============================] - 5s 264ms/step - loss: 0.0011 - val_loss: 7.3467e-04\n",
      "Epoch 24/25\n",
      "20/20 [==============================] - 5s 275ms/step - loss: 7.5521e-04 - val_loss: 7.2636e-04\n",
      "Epoch 25/25\n",
      "20/20 [==============================] - 5s 269ms/step - loss: 9.7181e-04 - val_loss: 6.7044e-04\n"
     ]
    },
    {
     "data": {
      "text/plain": "<keras.callbacks.History at 0x1def6fee380>"
     },
     "execution_count": 93,
     "metadata": {},
     "output_type": "execute_result"
    }
   ],
   "source": [
    "model.fit(X_train,y_train,validation_data=(X_test,ytest),epochs=25,batch_size=64,verbose=1)"
   ],
   "metadata": {
    "collapsed": false
   }
  },
  {
   "cell_type": "code",
   "execution_count": 94,
   "outputs": [
    {
     "name": "stdout",
     "output_type": "stream",
     "text": [
      "39/39 [==============================] - 4s 49ms/step\n",
      "20/20 [==============================] - 1s 58ms/step\n"
     ]
    }
   ],
   "source": [
    "### Lets Do the prediction and check performance metrics\n",
    "train_predict=model.predict(X_train)\n",
    "test_predict=model.predict(X_test)"
   ],
   "metadata": {
    "collapsed": false
   }
  },
  {
   "cell_type": "code",
   "execution_count": 95,
   "outputs": [],
   "source": [
    "##Transformback to original form\n",
    "train_predict=scaler.inverse_transform(train_predict)\n",
    "test_predict=scaler.inverse_transform(test_predict)"
   ],
   "metadata": {
    "collapsed": false
   }
  },
  {
   "cell_type": "code",
   "execution_count": 96,
   "outputs": [
    {
     "data": {
      "text/plain": "161.959319666963"
     },
     "execution_count": 96,
     "metadata": {},
     "output_type": "execute_result"
    }
   ],
   "source": [
    "math.sqrt(mean_squared_error(y_train,train_predict))"
   ],
   "metadata": {
    "collapsed": false
   }
  },
  {
   "cell_type": "code",
   "execution_count": 97,
   "outputs": [
    {
     "data": {
      "text/plain": "116.53614058731681"
     },
     "execution_count": 97,
     "metadata": {},
     "output_type": "execute_result"
    }
   ],
   "source": [
    "### Test Data RMSE\n",
    "math.sqrt(mean_squared_error(ytest,test_predict))"
   ],
   "metadata": {
    "collapsed": false
   }
  },
  {
   "cell_type": "code",
   "execution_count": 98,
   "outputs": [
    {
     "data": {
      "text/plain": "<Figure size 640x480 with 1 Axes>",
      "image/png": "[encoded data removed]"
     },
     "metadata": {},
     "output_type": "display_data"
    }
   ],
   "source": [
    "### Plotting\n",
    "# shift train predictions for plotting\n",
    "look_back=100\n",
    "trainPredictPlot = np.empty_like(df1)\n",
    "trainPredictPlot[:, :] = np.nan\n",
    "trainPredictPlot[look_back:len(train_predict)+look_back, :] = train_predict\n",
    "# shift test predictions for plotting\n",
    "testPredictPlot = np.empty_like(df1)\n",
    "testPredictPlot[:, :] = np.nan\n",
    "testPredictPlot[len(train_predict)+(look_back*2)+1:len(df1)-1, :] = test_predict\n",
    "# plot baseline and predictions\n",
    "plt.plot(scaler.inverse_transform(df1))\n",
    "plt.plot(trainPredictPlot)\n",
    "plt.plot(testPredictPlot)\n",
    "plt.show()"
   ],
   "metadata": {
    "collapsed": false
   }
  },
  {
   "cell_type": "code",
   "execution_count": null,
   "outputs": [],
   "source": [],
   "metadata": {
    "collapsed": false
   }
  }
 ],
 "metadata": {
  "kernelspec": {
   "display_name": "Python 3",
   "language": "python",
   "name": "python3"
  },
  "language_info": {
   "codemirror_mode": {
    "name": "ipython",
    "version": 2
   },
   "file_extension": ".py",
   "mimetype": "text/x-python",
   "name": "python",
   "nbconvert_exporter": "python",
   "pygments_lexer": "ipython2",
   "version": "2.7.6"
  }
 },
 "nbformat": 4,
 "nbformat_minor": 0
}
